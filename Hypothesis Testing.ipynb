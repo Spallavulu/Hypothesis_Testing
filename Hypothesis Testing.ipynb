{
 "cells": [
  {
   "cell_type": "code",
   "execution_count": 1,
   "id": "1ec46a05-1e86-475e-bbe7-676b86f5d603",
   "metadata": {},
   "outputs": [
    {
     "data": {
      "text/plain": [
       "' STATE OF HYPOTHESISI :\\nWe need to formulate our null hypothesis (H₀) and the alternative hypothesis (H₁).\\nNull Hypothesis (H₀): The weekly operating cost is not higher than the model suggests.\\nAlternative Hypothesis (H₁): The weekly operating cost is higher than the model suggests.\\n'"
      ]
     },
     "execution_count": 1,
     "metadata": {},
     "output_type": "execute_result"
    }
   ],
   "source": [
    "''' STATE OF HYPOTHESISI :\n",
    "We need to formulate our null hypothesis (H₀) and the alternative hypothesis (H₁).\n",
    "Null Hypothesis (H₀): The weekly operating cost is not higher than the model suggests.\n",
    "Alternative Hypothesis (H₁): The weekly operating cost is higher than the model suggests.\n",
    "'''"
   ]
  },
  {
   "cell_type": "code",
   "execution_count": 2,
   "id": "49909fe5-4c7d-463a-838f-012ea2383929",
   "metadata": {},
   "outputs": [
    {
     "data": {
      "text/plain": [
       "'\\nProvided information\\nsample_mean = 3050\\npopulation_mean = 4000\\npopulation_std_dev = 125\\nsample_size = 25\\naplha = 0.05\\n'"
      ]
     },
     "execution_count": 2,
     "metadata": {},
     "output_type": "execute_result"
    }
   ],
   "source": [
    "'''\n",
    "Provided information\n",
    "sample_mean = 3050\n",
    "population_mean = 4000\n",
    "population_std_dev = 125\n",
    "sample_size = 25\n",
    "aplha = 0.05\n",
    "'''"
   ]
  },
  {
   "cell_type": "code",
   "execution_count": 3,
   "id": "e4d0900d-e5e8-4b52-a6d3-56fc8f8ab589",
   "metadata": {},
   "outputs": [
    {
     "name": "stdout",
     "output_type": "stream",
     "text": [
      "Z Score of the given data is: -38.0\n"
     ]
    }
   ],
   "source": [
    "#Calculate the Test Statistic:\n",
    "import numpy as np\n",
    "from statsmodels.stats import weightstats \n",
    "# Given data\n",
    "sample_mean = 3050\n",
    "population_mean = 4000\n",
    "std_dev = 125\n",
    "sample_size = 25p\" ppc \n",
    "standard_error = std_dev / np.sqrt(sample_size)#caluculate the standard_error\n",
    "z_value = (sample_mean - population_mean) / standard_error  #calculate the Z_value \n",
    "print(\"Z Score of the given data is:\", z_value)"
   ]
  },
  {
   "cell_type": "code",
   "execution_count": 4,
   "id": "03dd46fe-68d7-43a9-a8ce-979038f9b53f",
   "metadata": {},
   "outputs": [
    {
     "name": "stdout",
     "output_type": "stream",
     "text": [
      "p_value is: 0.0\n"
     ]
    }
   ],
   "source": [
    "from  scipy import stats\n",
    "pvalue = stats.norm.cdf(z_value)\n",
    "print(\"p_value is:\",pvalue)"
   ]
  },
  {
   "cell_type": "code",
   "execution_count": 5,
   "id": "72beb977-e0d5-4255-af7b-6771c5a6752c",
   "metadata": {},
   "outputs": [],
   "source": [
    "alpha=0.05 #set the alpha value to 0.05"
   ]
  },
  {
   "cell_type": "code",
   "execution_count": 6,
   "id": "2b1aa657-fac6-479e-a56e-ba1de440fe30",
   "metadata": {},
   "outputs": [
    {
     "name": "stdout",
     "output_type": "stream",
     "text": [
      "critical value is : 1.6448536269514722\n"
     ]
    }
   ],
   "source": [
    "#caluculate the critical value\n",
    "critical_value=stats.norm.ppf(1-alpha)\n",
    "print(\"critical value is :\",critical_value)"
   ]
  },
  {
   "cell_type": "code",
   "execution_count": 7,
   "id": "44b0a5c0-c696-4db2-a146-9f4c23d139e0",
   "metadata": {},
   "outputs": [
    {
     "name": "stdout",
     "output_type": "stream",
     "text": [
      "ho is rejected and h1 is accepted\n"
     ]
    }
   ],
   "source": [
    "if pvalue<critical_value:\n",
    "    print(\"ho is rejected and h1 is accepted\")\n",
    "else:\n",
    "    print(\"ho is accepted and h1 is rejected\")"
   ]
  },
  {
   "cell_type": "code",
   "execution_count": 8,
   "id": "2cbc7fde-6464-4d4d-b9da-a55c6ab339b3",
   "metadata": {},
   "outputs": [],
   "source": [
    "##CONCLUSION : we have the significance evidence that the weekly operating cost is higher than the model suggests."
   ]
  },
  {
   "cell_type": "code",
   "execution_count": null,
   "id": "f58c56af-bd91-424c-ab4d-1f5b345d0d87",
   "metadata": {},
   "outputs": [],
   "source": []
  }
 ],
 "metadata": {
  "kernelspec": {
   "display_name": "Python 3 (ipykernel)",
   "language": "python",
   "name": "python3"
  },
  "language_info": {
   "codemirror_mode": {
    "name": "ipython",
    "version": 3
   },
   "file_extension": ".py",
   "mimetype": "text/x-python",
   "name": "python",
   "nbconvert_exporter": "python",
   "pygments_lexer": "ipython3",
   "version": "3.11.7"
  }
 },
 "nbformat": 4,
 "nbformat_minor": 5
}
