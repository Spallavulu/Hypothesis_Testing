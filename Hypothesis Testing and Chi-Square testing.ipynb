{
 "cells": [
  {
   "cell_type": "code",
   "execution_count": 1,
   "id": "2f60aef2",
   "metadata": {},
   "outputs": [],
   "source": [
    "#Statement : T-Test \n",
    "#we need to test null hypothesis(Ho) and alternative hypothesis (H1)\n",
    "\"\"\"\n",
    "(Ho): Weekly operation cost is not higher than model suggestion\n",
    "(H1): Weekly operation cost is higher than the model suggestion\n",
    "\"\"\""
   ]
  },
  {
   "cell_type": "code",
   "execution_count": 1,
   "id": "5c02073c",
   "metadata": {},
   "outputs": [],
   "source": [
    "import numpy as np"
   ]
  },
  {
   "cell_type": "code",
   "execution_count": 4,
   "id": "51fda485",
   "metadata": {},
   "outputs": [
    {
     "name": "stdout",
     "output_type": "stream",
     "text": [
      "z score of the given data is: -38.0\n"
     ]
    }
   ],
   "source": [
    "mean_weekly_cost = 3050\n",
    "num_restaurants = 25\n",
    "mean_units = 600\n",
    "std_units = 125\n",
    "population_mean = 4000\n",
    "standard_error = std_units/np.sqrt(num_restaurants)\n",
    "z_value = (mean_weekly_cost - population_mean) / standard_error\n",
    "print(\"z score of the given data is:\", z_value)"
   ]
  },
  {
   "cell_type": "code",
   "execution_count": 5,
   "id": "81cb156b",
   "metadata": {},
   "outputs": [
    {
     "name": "stdout",
     "output_type": "stream",
     "text": [
      "p_value is: 0.0\n"
     ]
    }
   ],
   "source": [
    "from scipy import stats\n",
    "pvalue = stats.norm.cdf(z_value)\n",
    "print(\"p_value is:\",pvalue)"
   ]
  },
  {
   "cell_type": "code",
   "execution_count": 7,
   "id": "62c2864c",
   "metadata": {},
   "outputs": [
    {
     "name": "stdout",
     "output_type": "stream",
     "text": [
      "critical value is: 1.6448536269514722\n"
     ]
    }
   ],
   "source": [
    "alpha = 0.05\n",
    "\n",
    "critical_value = stats.norm.ppf(1-alpha)\n",
    "print(\"critical value is:\", critical_value)"
   ]
  },
  {
   "cell_type": "code",
   "execution_count": 8,
   "id": "9ce631d2",
   "metadata": {},
   "outputs": [
    {
     "name": "stdout",
     "output_type": "stream",
     "text": [
      "Ho is rejected and H1 is accepted\n"
     ]
    }
   ],
   "source": [
    "if pvalue < critical_value:\n",
    "    print(\"Ho is rejected and H1 is accepted\")\n",
    "else:\n",
    "    print(\"Ho is accepted and H1 is rejected\")"
   ]
  },
  {
   "cell_type": "code",
   "execution_count": null,
   "id": "79d8d28d",
   "metadata": {},
   "outputs": [],
   "source": []
  }
 ],
 "metadata": {
  "kernelspec": {
   "display_name": "Python 3 (ipykernel)",
   "language": "python",
   "name": "python3"
  },
  "language_info": {
   "codemirror_mode": {
    "name": "ipython",
    "version": 3
   },
   "file_extension": ".py",
   "mimetype": "text/x-python",
   "name": "python",
   "nbconvert_exporter": "python",
   "pygments_lexer": "ipython3",
   "version": "3.11.7"
  }
 },
 "nbformat": 4,
 "nbformat_minor": 5
}
